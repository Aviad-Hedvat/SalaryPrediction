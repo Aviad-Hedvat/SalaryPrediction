{
 "cells": [
  {
   "cell_type": "code",
   "execution_count": null,
   "id": "27d328bc",
   "metadata": {},
   "outputs": [
    {
     "name": "stdout",
     "output_type": "stream",
     "text": [
      "Enter the player name: Adam ounas\n",
      "Message delivered to prediction [0] at offset 2\n",
      "Enter the player name: Adam ounas\n",
      "Message delivered to prediction [0] at offset 3\n",
      "Enter the player name: Adam ounas\n",
      "Message delivered to prediction [0] at offset 4\n",
      "Enter the player name: Adam ounas\n",
      "Message delivered to prediction [0] at offset 5\n",
      "Enter the player name: Adam ounas\n",
      "Message delivered to prediction [0] at offset 6\n",
      "Enter the player name: Adam ounas\n",
      "Message delivered to prediction [0] at offset 7\n",
      "Enter the player name: Adam ounas\n",
      "Message delivered to prediction [0] at offset 8\n",
      "Enter the player name: sd\n",
      "Message delivered to prediction [0] at offset 9\n",
      "Enter the player name: a\n",
      "Message delivered to prediction [0] at offset 10\n",
      "Enter the player name: Adam Ounas\n",
      "Message delivered to prediction [0] at offset 11\n",
      "Enter the player name: Adam Ounas\n",
      "Message delivered to prediction [0] at offset 12\n",
      "Enter the player name: Adam Ounas\n",
      "Message delivered to prediction [0] at offset 13\n",
      "Enter the player name: Adam Ounas\n",
      "Message delivered to prediction [0] at offset 14\n",
      "Enter the player name: Adam Ounas\n",
      "Message delivered to prediction [0] at offset 15\n",
      "Enter the player name: Adam Ounas\n",
      "Message delivered to prediction [0] at offset 16\n",
      "Enter the player name: Adam Ounas\n",
      "Message delivered to prediction [0] at offset 17\n",
      "Enter the player name: Adam Ounas\n",
      "Message delivered to prediction [0] at offset 18\n"
     ]
    }
   ],
   "source": [
    "from confluent_kafka import Producer\n",
    "\n",
    "def delivery_report(err, msg):\n",
    "    if err is not None:\n",
    "        print(f\"Message delivery failed: {err}\")\n",
    "    else:\n",
    "        print(f\"Message delivered to {msg.topic()} [{msg.partition()}] at offset {msg.offset()}\")\n",
    "            \n",
    "def publish_data_to_kafka(topic, message):\n",
    "    producer_config = {\n",
    "        'bootstrap.servers': 'localhost:9092',\n",
    "        'client.id': 'kafka_producer',\n",
    "    }\n",
    "\n",
    "    producer = Producer(producer_config)\n",
    "    try:\n",
    "        producer.produce(topic, message, callback=delivery_report)\n",
    "        producer.flush()\n",
    "\n",
    "    except KeyboardInterrupt:\n",
    "        pass\n",
    "    finally:\n",
    "        producer.flush()\n",
    "    \n",
    "\n",
    "while True:\n",
    "    name = input(\"Enter the player name: \")\n",
    "    publish_data_to_kafka('prediction', name)"
   ]
  },
  {
   "cell_type": "code",
   "execution_count": null,
   "id": "e175081a",
   "metadata": {},
   "outputs": [],
   "source": []
  }
 ],
 "metadata": {
  "kernelspec": {
   "display_name": "Python 3 (ipykernel)",
   "language": "python",
   "name": "python3"
  },
  "language_info": {
   "codemirror_mode": {
    "name": "ipython",
    "version": 3
   },
   "file_extension": ".py",
   "mimetype": "text/x-python",
   "name": "python",
   "nbconvert_exporter": "python",
   "pygments_lexer": "ipython3",
   "version": "3.9.12"
  }
 },
 "nbformat": 4,
 "nbformat_minor": 5
}
